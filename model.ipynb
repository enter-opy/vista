{
 "cells": [
  {
   "cell_type": "code",
   "execution_count": 2,
   "id": "fe3ef55d",
   "metadata": {},
   "outputs": [],
   "source": [
    "import numpy as np\n",
    "import tensorflow as tf\n",
    "from tensorflow.keras.models import Sequential\n",
    "from tensorflow.keras import layers\n",
    "from keras.preprocessing.image import ImageDataGenerator"
   ]
  },
  {
   "cell_type": "code",
   "execution_count": 3,
   "id": "61af1487",
   "metadata": {},
   "outputs": [
    {
     "name": "stdout",
     "output_type": "stream",
     "text": [
      "Found 1005 images belonging to 2 classes.\n"
     ]
    }
   ],
   "source": [
    "datagen = ImageDataGenerator(shear_range = 0.2, zoom_range = 0.2, horizontal_flip = True)\n",
    "\n",
    "X_train = datagen.flow_from_directory('./Train', \n",
    "                                      target_size = (224, 224), batch_size = 10, class_mode=\"binary\", color_mode=\"rgb\")"
   ]
  },
  {
   "cell_type": "code",
   "execution_count": 4,
   "id": "36208be3",
   "metadata": {},
   "outputs": [
    {
     "name": "stdout",
     "output_type": "stream",
     "text": [
      "Found 130 images belonging to 2 classes.\n"
     ]
    }
   ],
   "source": [
    "X_test = datagen.flow_from_directory('./Test', \n",
    "                                     target_size = (224, 224), batch_size = 10, class_mode=\"binary\", color_mode=\"rgb\")"
   ]
  },
  {
   "cell_type": "code",
   "execution_count": 8,
   "id": "0e520309",
   "metadata": {},
   "outputs": [],
   "source": [
    "model = Sequential([\n",
    "    layers.Rescaling(1./255, input_shape=(224, 224, 3)),\n",
    "    layers.Conv2D(8, 3, padding='same', activation='relu'),\n",
    "    layers.MaxPooling2D(),\n",
    "    layers.Conv2D(16, 3, padding='same', activation='relu'),\n",
    "    layers.MaxPooling2D(),\n",
    "    layers.Conv2D(32, 3, padding='same', activation='relu'),\n",
    "    layers.MaxPooling2D(),\n",
    "    layers.Flatten(),\n",
    "    layers.Dense(64, activation='relu'),\n",
    "    layers.Dense(32, activation='relu'),\n",
    "    layers.Dense(10, activation='relu'),\n",
    "    layers.Dense(5, activation='relu'),\n",
    "    layers.Dense(1, activation='sigmoid')\n",
    "])\n",
    "\n",
    "model.compile(loss=tf.keras.losses.BinaryCrossentropy(),\n",
    "              optimizer=tf.keras.optimizers.Adam(0.001),\n",
    "              metrics=['accuracy'])"
   ]
  },
  {
   "cell_type": "code",
   "execution_count": 9,
   "id": "3d1e7dbb",
   "metadata": {},
   "outputs": [
    {
     "name": "stdout",
     "output_type": "stream",
     "text": [
      "Model: \"sequential_1\"\n",
      "_________________________________________________________________\n",
      " Layer (type)                Output Shape              Param #   \n",
      "=================================================================\n",
      " rescaling_1 (Rescaling)     (None, 224, 224, 3)       0         \n",
      "                                                                 \n",
      " conv2d_3 (Conv2D)           (None, 224, 224, 8)       224       \n",
      "                                                                 \n",
      " max_pooling2d_3 (MaxPooling  (None, 112, 112, 8)      0         \n",
      " 2D)                                                             \n",
      "                                                                 \n",
      " conv2d_4 (Conv2D)           (None, 112, 112, 16)      1168      \n",
      "                                                                 \n",
      " max_pooling2d_4 (MaxPooling  (None, 56, 56, 16)       0         \n",
      " 2D)                                                             \n",
      "                                                                 \n",
      " conv2d_5 (Conv2D)           (None, 56, 56, 32)        4640      \n",
      "                                                                 \n",
      " max_pooling2d_5 (MaxPooling  (None, 28, 28, 32)       0         \n",
      " 2D)                                                             \n",
      "                                                                 \n",
      " flatten_1 (Flatten)         (None, 25088)             0         \n",
      "                                                                 \n",
      " dense_5 (Dense)             (None, 64)                1605696   \n",
      "                                                                 \n",
      " dense_6 (Dense)             (None, 32)                2080      \n",
      "                                                                 \n",
      " dense_7 (Dense)             (None, 10)                330       \n",
      "                                                                 \n",
      " dense_8 (Dense)             (None, 5)                 55        \n",
      "                                                                 \n",
      " dense_9 (Dense)             (None, 1)                 6         \n",
      "                                                                 \n",
      "=================================================================\n",
      "Total params: 1,614,199\n",
      "Trainable params: 1,614,199\n",
      "Non-trainable params: 0\n",
      "_________________________________________________________________\n"
     ]
    }
   ],
   "source": [
    "model.summary()"
   ]
  },
  {
   "cell_type": "code",
   "execution_count": null,
   "id": "c128d348",
   "metadata": {},
   "outputs": [
    {
     "name": "stdout",
     "output_type": "stream",
     "text": [
      "Epoch 1/20\n",
      "101/101 [==============================] - 70s 685ms/step - loss: 0.5581 - accuracy: 0.7771 - val_loss: 0.5765 - val_accuracy: 0.7385\n",
      "Epoch 2/20\n",
      "101/101 [==============================] - 72s 716ms/step - loss: 0.5425 - accuracy: 0.7821 - val_loss: 0.5831 - val_accuracy: 0.7385\n",
      "Epoch 3/20\n",
      "101/101 [==============================] - 74s 730ms/step - loss: 0.5313 - accuracy: 0.7821 - val_loss: 0.5981 - val_accuracy: 0.7385\n",
      "Epoch 4/20\n",
      "101/101 [==============================] - 70s 693ms/step - loss: 0.5306 - accuracy: 0.7821 - val_loss: 0.5790 - val_accuracy: 0.7385\n",
      "Epoch 5/20\n",
      "101/101 [==============================] - 73s 721ms/step - loss: 0.5312 - accuracy: 0.7821 - val_loss: 0.5760 - val_accuracy: 0.7385\n",
      "Epoch 6/20\n",
      "101/101 [==============================] - 99s 985ms/step - loss: 0.5277 - accuracy: 0.7821 - val_loss: 0.5977 - val_accuracy: 0.7385\n",
      "Epoch 7/20\n",
      "101/101 [==============================] - 74s 729ms/step - loss: 0.5295 - accuracy: 0.7821 - val_loss: 0.5813 - val_accuracy: 0.7385\n",
      "Epoch 8/20\n",
      "101/101 [==============================] - 76s 748ms/step - loss: 0.5290 - accuracy: 0.7821 - val_loss: 0.5753 - val_accuracy: 0.7385\n",
      "Epoch 9/20\n",
      "101/101 [==============================] - 74s 738ms/step - loss: 0.5235 - accuracy: 0.7821 - val_loss: 0.5853 - val_accuracy: 0.7385\n",
      "Epoch 10/20\n",
      "101/101 [==============================] - 109s 1s/step - loss: 0.5259 - accuracy: 0.7821 - val_loss: 0.5900 - val_accuracy: 0.7385\n",
      "Epoch 11/20\n",
      "101/101 [==============================] - 82s 808ms/step - loss: 0.5218 - accuracy: 0.7821 - val_loss: 0.5783 - val_accuracy: 0.7385\n",
      "Epoch 12/20\n",
      "101/101 [==============================] - 78s 773ms/step - loss: 0.5218 - accuracy: 0.7821 - val_loss: 0.5804 - val_accuracy: 0.7385\n",
      "Epoch 13/20\n",
      "101/101 [==============================] - 79s 783ms/step - loss: 0.5239 - accuracy: 0.7821 - val_loss: 0.5785 - val_accuracy: 0.7385\n",
      "Epoch 14/20\n",
      "101/101 [==============================] - 80s 793ms/step - loss: 0.5218 - accuracy: 0.7821 - val_loss: 0.5883 - val_accuracy: 0.7385\n",
      "Epoch 15/20\n",
      "101/101 [==============================] - 79s 786ms/step - loss: 0.5239 - accuracy: 0.7821 - val_loss: 0.5836 - val_accuracy: 0.7385\n",
      "Epoch 16/20\n",
      "101/101 [==============================] - 79s 778ms/step - loss: 0.5243 - accuracy: 0.7821 - val_loss: 0.5861 - val_accuracy: 0.7385\n",
      "Epoch 17/20\n",
      "101/101 [==============================] - 78s 770ms/step - loss: 0.5191 - accuracy: 0.7821 - val_loss: 0.5807 - val_accuracy: 0.7385\n",
      "Epoch 18/20\n",
      " 35/101 [=========>....................] - ETA: 46s - loss: 0.5501 - accuracy: 0.7543"
     ]
    }
   ],
   "source": [
    "epochs = 20\n",
    "\n",
    "history = model.fit(\n",
    "  X_train,\n",
    "  validation_data=X_test,\n",
    "  epochs=epochs\n",
    ")"
   ]
  }
 ],
 "metadata": {
  "kernelspec": {
   "display_name": "Python 3 (ipykernel)",
   "language": "python",
   "name": "python3"
  },
  "language_info": {
   "codemirror_mode": {
    "name": "ipython",
    "version": 3
   },
   "file_extension": ".py",
   "mimetype": "text/x-python",
   "name": "python",
   "nbconvert_exporter": "python",
   "pygments_lexer": "ipython3",
   "version": "3.9.13"
  }
 },
 "nbformat": 4,
 "nbformat_minor": 5
}
